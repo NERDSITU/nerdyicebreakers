{
 "cells": [
  {
   "cell_type": "code",
   "execution_count": 1,
   "id": "ab1552b3",
   "metadata": {},
   "outputs": [],
   "source": [
    "from docx import Document\n",
    "from docx.shared import Inches\n",
    "import pandas as pd\n",
    "import random"
   ]
  },
  {
   "cell_type": "code",
   "execution_count": 3,
   "id": "2557c873",
   "metadata": {},
   "outputs": [],
   "source": [
    "bingos = list(pd.read_csv(\"./bingos.csv\", header = None)[0])\n",
    "\n",
    "document = Document()\n",
    "\n",
    "for _ in range(30):\n",
    "    document.add_heading('NIGHTINGALE BINGO filled out by: _______________', level=1)\n",
    "\n",
    "    p = document.add_paragraph('\\n Fill the bingo sheet with names of people that fit the description. \\n NO NAME MAY USED BE MORE THAN ONCE. OWN NAME MAY NOT BE USED. \\n \\n')\n",
    "\n",
    "    table = document.add_table(rows=3, cols=3)\n",
    "    count = 0\n",
    "    mybingos = set(random.sample(bingos, k=9))\n",
    "    for i in range(3):\n",
    "        for j in range(3):\n",
    "            cell = table.cell(i, j)\n",
    "            cell.text = \"\\n \\n\" + mybingos.pop() + \"\\n \\n \\n\"\n",
    "            count += 1\n",
    "\n",
    "    table.style = \"Table Grid\"\n",
    "\n",
    "    document.add_paragraph(\"\\n\")\n",
    "    \n",
    "    document.add_paragraph(\"* Erdös number: bit.ly/erdosnumber\")\n",
    "\n",
    "    document.add_paragraph(\"** Vulcan salute: \")\n",
    "\n",
    "    document.add_picture('vulkan.png', width=Inches(1.15))\n",
    "\n",
    "    document.add_page_break()\n",
    "\n",
    "document.save('bingosheets.docx')"
   ]
  }
 ],
 "metadata": {
  "kernelspec": {
   "display_name": "OSMNX",
   "language": "python",
   "name": "osmnx"
  },
  "language_info": {
   "codemirror_mode": {
    "name": "ipython",
    "version": 3
   },
   "file_extension": ".py",
   "mimetype": "text/x-python",
   "name": "python",
   "nbconvert_exporter": "python",
   "pygments_lexer": "ipython3",
   "version": "3.9.7"
  }
 },
 "nbformat": 4,
 "nbformat_minor": 5
}
